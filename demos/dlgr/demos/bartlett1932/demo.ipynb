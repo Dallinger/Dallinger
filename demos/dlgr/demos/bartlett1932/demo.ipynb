{
 "cells": [
  {
   "cell_type": "markdown",
   "metadata": {
    "collapsed": false
   },
   "source": [
    "# The War of the Ghosts"
   ],
   "outputs": [],
   "outputExpanded": false
  },
  {
   "cell_type": "markdown",
   "metadata": {
    "collapsed": false
   },
   "source": [
    "Frederic Bartlett's 1932 book *Remembering* documents early experiments that explore how using and transmitting a memory can affect the memory’s contents. Bartlett wanted to understand how culture shapes memory. Inspired by Philippe (1897), he performed a series of experiments that asked participants to repeatedly recall a memory or to pass it down a chain of people, from one to the next. Bartlett showed that the process of reproduction alters memories over time, causing them to take on features from an individual’s culture. More generally, the methods he developed expose cumulative effects of the forces that reshape and degrade memories and how they impact the structure and veracity of what we remember.\n",
    "\n",
    "Bartlett, F. C. (1932). Remembering. Cambridge: Cambridge University Press.\n",
    "\n",
    "In this demo, a Native American story is passed down a chain.\n",
    "\nLet's begin by running the experiment:"
   ],
   "outputs": [],
   "outputExpanded": false
  },
  {
   "execution_count": null,
   "metadata": {
    "collapsed": false
   },
   "outputs": [],
   "cell_type": "code",
   "outputExpanded": false,
   "source": [
    "import dallinger"
   ]
  },
  {
   "execution_count": null,
   "metadata": {
    "collapsed": false
   },
   "outputs": [],
   "cell_type": "code",
   "outputExpanded": false,
   "source": [
    "experiment = dallinger.experiments.Bartlett1932()\n",
    "data = experiment.run(\n",
    "    {\n",
    "        \"mode\": \"live\",\n",
    "        \"base_payment\": 1.00,\n",
    "    }\n",
    ")"
   ]
  },
  {
   "cell_type": "markdown",
   "metadata": {
    "collapsed": false
   },
   "source": [
    "Alternatively, you can load data from our repository of experiment runs:"
   ],
   "outputs": [],
   "outputExpanded": false
  },
  {
   "execution_count": null,
   "metadata": {
    "collapsed": false
   },
   "outputs": [],
   "cell_type": "code",
   "outputExpanded": false,
   "source": [
    "data = dallinger.data.load(\"3b9c2aeb-0eb7-4432-803e-bc437e17b3bb\")"
   ]
  },
  {
   "execution_count": null,
   "metadata": {
    "collapsed": false
   },
   "outputs": [],
   "cell_type": "code",
   "outputExpanded": false,
   "source": [
    "data.infos.list"
   ]
  }
 ],
 "metadata": {
  "kernel_info": {
   "name": "python2"
  },
  "kernelspec": {
   "name": "python2",
   "language": "python",
   "display_name": "Python 2"
  },
  "language_info": {
   "mimetype": "text/x-python",
   "nbconvert_exporter": "python",
   "name": "python",
   "pygments_lexer": "ipython2",
   "version": "2.7.10",
   "file_extension": ".py",
   "codemirror_mode": {
    "version": 2,
    "name": "ipython"
   }
  }
 },
 "nbformat": 4,
 "nbformat_minor": 0
}