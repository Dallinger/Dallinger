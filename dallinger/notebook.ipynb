{
  "cells": [
    {
      "cell_type": "code",
      "source": [
        "import dallinger as dlgr\n",
        "\n",
        "# Load the data and verify its contents.\n",
        "data = dlgr.data.load(\"UUID\")"
      ],
      "outputs": [],
      "execution_count": 0,
      "metadata": {
        "collapsed": false,
        "outputHidden": false,
        "inputHidden": false
      }
    }
  ],
  "metadata": {
    "kernelspec": {
      "name": "python2",
      "language": "python",
      "display_name": "Python 2"
    },
    "kernel_info": {
      "name": "python2"
    },
    "language_info": {
      "mimetype": "text/x-python",
      "nbconvert_exporter": "python",
      "name": "python",
      "pygments_lexer": "ipython2",
      "version": "2.7.13",
      "file_extension": ".py",
      "codemirror_mode": {
        "version": 2,
        "name": "ipython"
      }
    },
    "gist_id": "5b2a9370f7fd6eb217c51f1c3c5ebfcf"
  },
  "nbformat": 4,
  "nbformat_minor": 4
}